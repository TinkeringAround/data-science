{
 "cells": [
  {
   "cell_type": "code",
   "execution_count": 1,
   "metadata": {},
   "outputs": [],
   "source": [
    "import numpy as np"
   ]
  },
  {
   "cell_type": "code",
   "execution_count": 2,
   "metadata": {},
   "outputs": [
    {
     "output_type": "stream",
     "name": "stdout",
     "text": "[[11]\n [14]\n [17]\n [20]]\n"
    }
   ],
   "source": [
    "# Example Matrices Multiplication\n",
    "C = np.array(([1,5], [2,6], [3,7], [4,8]))\n",
    "D = np.array(([1],[2]))\n",
    "\n",
    "res = np.dot(C,D)\n",
    "print(res)"
   ]
  },
  {
   "cell_type": "code",
   "execution_count": 3,
   "metadata": {},
   "outputs": [
    {
     "output_type": "stream",
     "name": "stdout",
     "text": "[[28 26]\n [50 55]]\n"
    }
   ],
   "source": [
    "# Matrice Multiplication\n",
    "M = np.array(([4,2,3], [5,1,6]))\n",
    "N = np.array(([3,2],[-1,-3],[6,8]))\n",
    "\n",
    "R = np.dot(M,N)\n",
    "print(R)"
   ]
  },
  {
   "cell_type": "code",
   "execution_count": 4,
   "metadata": {},
   "outputs": [
    {
     "output_type": "stream",
     "name": "stdout",
     "text": "81.00000000000003\n"
    }
   ],
   "source": [
    "# Determinante of a Matrix\n",
    "Matrix = np.array(([1,3,4], [-2,3,5], [2,-3,4]))\n",
    "detM = np.linalg.det(Matrix)\n",
    "\n",
    "print(detM)"
   ]
  }
 ],
 "metadata": {
  "language_info": {
   "name": "python",
   "codemirror_mode": {
    "name": "ipython",
    "version": 2
   },
   "version": "3.8.2-final"
  },
  "orig_nbformat": 2,
  "file_extension": ".py",
  "mimetype": "text/x-python",
  "name": "python",
  "npconvert_exporter": "python",
  "pygments_lexer": "ipython2",
  "version": 2,
  "kernelspec": {
   "name": "python38264bit5a7ad6ddbf584eb69bc0fb9f725dea03",
   "display_name": "Python 3.8.2 64-bit"
  }
 },
 "nbformat": 4,
 "nbformat_minor": 2
}