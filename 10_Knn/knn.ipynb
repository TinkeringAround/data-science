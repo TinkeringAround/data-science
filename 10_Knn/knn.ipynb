{
 "cells": [
  {
   "cell_type": "markdown",
   "metadata": {},
   "source": [
    "Implement KNN by hand for just 2 dimensions with normalization.\n",
    "\n",
    "This is easy because:\n",
    "\n",
    "1. funct: You normalize your data in another table\n",
    "2. funct: You code a simple euclid distance function\n",
    "3. funct: You take a point and calculate the distance to all points\n",
    "4. funct: You take the list from above and sort it\n",
    "5. funct: You aggregate by target variable\n",
    "6. funct: you take the max to determine the targe class\n",
    "\n",
    "you are finished!\n",
    "\n",
    "Note: This is the only chance to implement a machine learning algorithm by hand and hence learn something from the ground up!"
   ]
  },
  {
   "cell_type": "code",
   "execution_count": 702,
   "metadata": {},
   "outputs": [],
   "source": [
    "# Imports\n",
    "import pandas as pd\n",
    "import numpy as np\n",
    "import math"
   ]
  },
  {
   "cell_type": "code",
   "execution_count": 703,
   "metadata": {},
   "outputs": [
    {
     "output_type": "execute_result",
     "data": {
      "text/plain": "   height  age  weight\n0    5.00   45      77\n1    5.11   26      47\n2    5.60   30      55\n3    5.90   34      59\n4    4.80   40      72\n5    5.80   36      60\n6    5.30   19      40\n7    5.80   28      60\n8    5.50   23      45\n9    5.60   32      58",
      "text/html": "<div>\n<style scoped>\n    .dataframe tbody tr th:only-of-type {\n        vertical-align: middle;\n    }\n\n    .dataframe tbody tr th {\n        vertical-align: top;\n    }\n\n    .dataframe thead th {\n        text-align: right;\n    }\n</style>\n<table border=\"1\" class=\"dataframe\">\n  <thead>\n    <tr style=\"text-align: right;\">\n      <th></th>\n      <th>height</th>\n      <th>age</th>\n      <th>weight</th>\n    </tr>\n  </thead>\n  <tbody>\n    <tr>\n      <th>0</th>\n      <td>5.00</td>\n      <td>45</td>\n      <td>77</td>\n    </tr>\n    <tr>\n      <th>1</th>\n      <td>5.11</td>\n      <td>26</td>\n      <td>47</td>\n    </tr>\n    <tr>\n      <th>2</th>\n      <td>5.60</td>\n      <td>30</td>\n      <td>55</td>\n    </tr>\n    <tr>\n      <th>3</th>\n      <td>5.90</td>\n      <td>34</td>\n      <td>59</td>\n    </tr>\n    <tr>\n      <th>4</th>\n      <td>4.80</td>\n      <td>40</td>\n      <td>72</td>\n    </tr>\n    <tr>\n      <th>5</th>\n      <td>5.80</td>\n      <td>36</td>\n      <td>60</td>\n    </tr>\n    <tr>\n      <th>6</th>\n      <td>5.30</td>\n      <td>19</td>\n      <td>40</td>\n    </tr>\n    <tr>\n      <th>7</th>\n      <td>5.80</td>\n      <td>28</td>\n      <td>60</td>\n    </tr>\n    <tr>\n      <th>8</th>\n      <td>5.50</td>\n      <td>23</td>\n      <td>45</td>\n    </tr>\n    <tr>\n      <th>9</th>\n      <td>5.60</td>\n      <td>32</td>\n      <td>58</td>\n    </tr>\n  </tbody>\n</table>\n</div>"
     },
     "metadata": {},
     "execution_count": 703
    }
   ],
   "source": [
    "# Dataset\n",
    "data = pd.read_csv(\"./data.csv\")\n",
    "data"
   ]
  },
  {
   "cell_type": "code",
   "execution_count": 704,
   "metadata": {
    "tags": []
   },
   "outputs": [],
   "source": [
    "# Algorithm Functions\n",
    "\n",
    "# 1. Normalization\n",
    "def normalizeDataset(data):\n",
    "    maxValues = data.max(axis=0)\n",
    "    minValues = data.min(axis=0)\n",
    "    normData = data.copy()\n",
    "\n",
    "    for name, column in data.iteritems():\n",
    "        index = data.columns.get_loc(name)\n",
    "        normData[name] = (column - minValues[index]) / (maxValues[index] - minValues[index])\n",
    "\n",
    "    return normData\n",
    "\n",
    "def normalizeInputData(input, data):\n",
    "    maxValues = data.max(axis=0)\n",
    "    minValues = data.min(axis=0)\n",
    "    normInput = np.zeros(data.columns.size - 1)\n",
    "\n",
    "    for i in range(data.columns.size - 1):\n",
    "        normInput[i] = (input[i] - minValues[i]) / (maxValues[i] - minValues[i])\n",
    "\n",
    "    return normInput\n",
    "\n",
    "# 2. Euclid Distance Function\n",
    "def euclidDistance(a, b):\n",
    "    return np.sqrt(np.sum((a-b)**2))\n",
    "\n",
    "# 3. Distance Calculator\n",
    "def calcDistanceToPoint(point, data):\n",
    "    distances = []\n",
    "    for row in data.iloc:\n",
    "        rowExtract = row[:(len(row) -1)]\n",
    "        distances = np.append(distances, euclidDistance(point, rowExtract))\n",
    "\n",
    "    return np.array(distances).reshape(data.shape[0],1)\n",
    "\n",
    "# 4. Sort by Values\n",
    "def sortArray(array):\n",
    "    return np.sort(array, axis=0)\n",
    "\n",
    "# 5. Aggregate by k\n",
    "def aggregateDistances(sortedDistances, distances, data, k):\n",
    "    aggregation = sortedDistances[:k]\n",
    "    relevantIndices = []\n",
    "    relevantData = [0] * k\n",
    "\n",
    "    for agg in aggregation:\n",
    "        relevantIndices = np.append(relevantIndices, np.where(distances == agg)[0])\n",
    "\n",
    "\n",
    "    for index in range(len(relevantIndices)):\n",
    "        relevantData[index] = data.iloc[int(relevantIndices[index])][data.columns.size -1]\n",
    "\n",
    "    return relevantData\n",
    "\n",
    "# 6. Vote regarding a specific edge Value\n",
    "def vote(votes):\n",
    "    return np.max(votes)"
   ]
  },
  {
   "cell_type": "code",
   "execution_count": 705,
   "metadata": {
    "tags": []
   },
   "outputs": [
    {
     "output_type": "stream",
     "name": "stdout",
     "text": "Prediction: 77.0\n"
    }
   ],
   "source": [
    "# Calculate with Example Value\n",
    "input = [5, 45] # height, age -> target is weight\n",
    "k = int(np.sqrt(data.index.size))\n",
    "\n",
    "normData = normalizeDataset(data)\n",
    "normInput = normalizeInputData(input, data)\n",
    "\n",
    "distances = calcDistanceToPoint(normInput, normData)\n",
    "sortedDistances = sortArray(distances)\n",
    "aggregatedData = aggregateDistances(sortedDistances, distances, data, k)\n",
    "prediction = vote(aggregatedData)\n",
    "print(\"Prediction: \" + str(prediction))"
   ]
  }
 ],
 "metadata": {
  "language_info": {
   "codemirror_mode": {
    "name": "ipython",
    "version": 3
   },
   "file_extension": ".py",
   "mimetype": "text/x-python",
   "name": "python",
   "nbconvert_exporter": "python",
   "pygments_lexer": "ipython3",
   "version": "3.8.2-final"
  },
  "orig_nbformat": 2,
  "kernelspec": {
   "name": "python38264bit5a7ad6ddbf584eb69bc0fb9f725dea03",
   "display_name": "Python 3.8.2 64-bit"
  }
 },
 "nbformat": 4,
 "nbformat_minor": 2
}