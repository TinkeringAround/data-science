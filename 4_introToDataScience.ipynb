{
 "cells": [
  {
   "cell_type": "code",
   "execution_count": 296,
   "metadata": {},
   "outputs": [
    {
     "output_type": "stream",
     "name": "stdout",
     "text": "Numpy Version: 1.18.3\n"
    }
   ],
   "source": [
    "# Exercise 1\n",
    "import numpy as np\n",
    "\n",
    "print(\"Numpy Version: \" + np.__version__)"
   ]
  },
  {
   "cell_type": "code",
   "execution_count": 297,
   "metadata": {},
   "outputs": [
    {
     "output_type": "stream",
     "name": "stdout",
     "text": "n: [0 1 2 3 4 5 6 7 8 9]\n"
    }
   ],
   "source": [
    "# Exercise 2\n",
    "n = np.arange(10)\n",
    "\n",
    "print(\"n: \" + str(n))"
   ]
  },
  {
   "cell_type": "code",
   "execution_count": 298,
   "metadata": {},
   "outputs": [
    {
     "output_type": "stream",
     "name": "stdout",
     "text": "A: [[ True  True  True]\n [ True  True  True]\n [ True  True  True]]\n\nB: [[ True  True  True]\n [ True  True  True]\n [ True  True  True]]\n\nA is equal to B: True\n"
    }
   ],
   "source": [
    "# Exercise 3\n",
    "A = np.full((3, 3), True, dtype=bool)\n",
    "B = np.ones((3,3), dtype=bool)\n",
    "\n",
    "print(\"A: \" + str(A) + \"\\n\")\n",
    "print(\"B: \" + str(B) + \"\\n\")\n",
    "print(\"A is equal to B: \" + str((A==B).all()))"
   ]
  },
  {
   "cell_type": "code",
   "execution_count": 299,
   "metadata": {},
   "outputs": [
    {
     "output_type": "stream",
     "name": "stdout",
     "text": "Odd Numbers of n: [1 3 5 7 9]\n"
    }
   ],
   "source": [
    "# Exercise 4\n",
    "n = np.array([0, 1, 2, 3, 4, 5, 6, 7, 8, 9])\n",
    "\n",
    "print(\"Odd Numbers of n: \" + str(n[n % 2 == 1]))"
   ]
  },
  {
   "cell_type": "code",
   "execution_count": 300,
   "metadata": {},
   "outputs": [
    {
     "output_type": "stream",
     "name": "stdout",
     "text": "n: [ 0 -1  2 -1  4 -1  6 -1  8 -1]\n"
    }
   ],
   "source": [
    "# Exercise 5\n",
    "n = np.array([0, 1, 2, 3, 4, 5, 6, 7, 8, 9])\n",
    "n[n % 2 == 1] = -1\n",
    "\n",
    "print(\"n: \" + str(n))"
   ]
  },
  {
   "cell_type": "code",
   "execution_count": 301,
   "metadata": {},
   "outputs": [
    {
     "output_type": "stream",
     "name": "stdout",
     "text": "n: [0 1 2 3 4 5 6 7 8 9]\nm: [ 0 -1  2 -1  4 -1  6 -1  8 -1]\n"
    }
   ],
   "source": [
    "# Exercise 6\n",
    "n = np.arange(10)\n",
    "m = np.where(n % 2 == 1, -1, n)\n",
    "\n",
    "print(\"n: \" + str(n))\n",
    "print(\"m: \"+ str(m))"
   ]
  },
  {
   "cell_type": "code",
   "execution_count": 302,
   "metadata": {},
   "outputs": [
    {
     "output_type": "stream",
     "name": "stdout",
     "text": "Reshapen to 2D Array, n: [[0 1 2 3 4]\n [5 6 7 8 9]]\n"
    }
   ],
   "source": [
    "# Exercise 7\n",
    "n = np.arange(10)\n",
    "n = n.reshape(2, -1)\n",
    "\n",
    "print(\"Reshapen to 2D Array, n: \" + str(n))"
   ]
  },
  {
   "cell_type": "code",
   "execution_count": 303,
   "metadata": {},
   "outputs": [
    {
     "output_type": "stream",
     "name": "stdout",
     "text": "A:[[0 1 2 3 4]\n [5 6 7 8 9]]\n\nB: [[1 1 1 1 1]\n [1 1 1 1 1]]\n\nC: [[0 1 2 3 4]\n [5 6 7 8 9]\n [1 1 1 1 1]\n [1 1 1 1 1]]\n\nResult Comparison: True\n"
    }
   ],
   "source": [
    "# Exercise 8\n",
    "A = np.arange(10).reshape(2,-1)\n",
    "B = np.repeat(1, 10).reshape(2,-1)\n",
    "\n",
    "C = np.concatenate([A,B], axis=0)\n",
    "D = np.vstack([A, B])\n",
    "\n",
    "print(\"A:\" + str(A) + \"\\n\")\n",
    "print(\"B: \" + str(B)+ \"\\n\")\n",
    "print(\"C: \" + str(C) + \"\\n\")\n",
    "print(\"Result Comparison: \" + str((C==D).all()))"
   ]
  },
  {
   "cell_type": "code",
   "execution_count": 304,
   "metadata": {},
   "outputs": [
    {
     "output_type": "stream",
     "name": "stdout",
     "text": "A:[[0 1 2 3 4]\n [5 6 7 8 9]]\n\nB: [[1 1 1 1 1]\n [1 1 1 1 1]]\n\nC: [[0 1 2 3 4 1 1 1 1 1]\n [5 6 7 8 9 1 1 1 1 1]]\n\nResult Comparison: True\n"
    }
   ],
   "source": [
    "#Exercise 9\n",
    "A = np.arange(10).reshape(2,-1)\n",
    "B = np.repeat(1, 10).reshape(2,-1)\n",
    "\n",
    "C = np.concatenate([A,B], axis=1)\n",
    "D = np.hstack([A, B])\n",
    "\n",
    "print(\"A:\" + str(A) + \"\\n\")\n",
    "print(\"B: \" + str(B)+ \"\\n\")\n",
    "print(\"C: \" + str(C) + \"\\n\")\n",
    "print(\"Result Comparison: \" + str((C==D).all()))"
   ]
  },
  {
   "cell_type": "code",
   "execution_count": 305,
   "metadata": {},
   "outputs": [
    {
     "output_type": "stream",
     "name": "stdout",
     "text": "A: [1 2 3]\nB: [1 1 1 2 2 2 3 3 3 1 2 3 1 2 3 1 2 3]\n"
    }
   ],
   "source": [
    "# Exercise 10\n",
    "A = np.array([1,2,3])\n",
    "B = np.r_[np.repeat(A, 3), np.tile(A, 3)]\n",
    "\n",
    "print(\"A: \" + str(A))\n",
    "print(\"B: \" + str(B))"
   ]
  },
  {
   "cell_type": "code",
   "execution_count": 306,
   "metadata": {},
   "outputs": [
    {
     "output_type": "stream",
     "name": "stdout",
     "text": "A: [1 2 3 2 3 4 3 4 5 6]\nB: [ 7  2 10  2  7  4  9  4  9  8]\nCommon Items: [2 4]\n"
    }
   ],
   "source": [
    "# Exercise 11\n",
    "A = np.array([1,2,3,2,3,4,3,4,5,6])\n",
    "B = np.array([7,2,10,2,7,4,9,4,9,8])\n",
    "\n",
    "C = np.intersect1d(A,B)\n",
    "\n",
    "print(\"A: \" + str(A))\n",
    "print(\"B: \" + str(B))\n",
    "print(\"Common Items: \" + str(C))"
   ]
  },
  {
   "cell_type": "code",
   "execution_count": 307,
   "metadata": {},
   "outputs": [
    {
     "output_type": "stream",
     "name": "stdout",
     "text": "A: [1 2 3 4 5]\nB: [5 6 7 8 9]\nItems not in B but in A: [1 2 3 4]\n"
    }
   ],
   "source": [
    "# Exercise 12\n",
    "A = np.array([1,2,3,4,5])\n",
    "B = np.array([5,6,7,8,9])\n",
    "\n",
    "C = np.setdiff1d(A,B)\n",
    "\n",
    "print(\"A: \" + str(A))\n",
    "print(\"B: \" + str(B))\n",
    "print(\"Items not in B but in A: \" + str(C))"
   ]
  },
  {
   "cell_type": "code",
   "execution_count": 308,
   "metadata": {},
   "outputs": [
    {
     "output_type": "stream",
     "name": "stdout",
     "text": "A: [1 2 3 2 3 4 3 4 5 6]\nB: [ 7  2 10  2  7  4  9  4  9  8]\nIndices of matching Items: (array([1, 3, 5, 7], dtype=int64),)\n"
    }
   ],
   "source": [
    "# Exercise 13\n",
    "A = np.array([1,2,3,2,3,4,3,4,5,6])\n",
    "B = np.array([7,2,10,2,7,4,9,4,9,8])\n",
    "\n",
    "C = np.where(A==B)\n",
    "\n",
    "print(\"A: \" + str(A))\n",
    "print(\"B: \" + str(B))\n",
    "print(\"Indices of matching Items: \" + str(C))"
   ]
  },
  {
   "cell_type": "code",
   "execution_count": 309,
   "metadata": {},
   "outputs": [
    {
     "output_type": "stream",
     "name": "stdout",
     "text": "A: [ 2  6  1  9 10  3 27]\nB: [ 6  9 10]\n"
    }
   ],
   "source": [
    "# Exercise 14\n",
    "A = np.array([2, 6, 1, 9, 10, 3, 27])\n",
    "B = A[(A >= 5) & (A <= 10)]\n",
    "\n",
    "print(\"A: \"+ str(A))\n",
    "print(\"B: \"+ str(B))"
   ]
  },
  {
   "cell_type": "code",
   "execution_count": 310,
   "metadata": {},
   "outputs": [
    {
     "output_type": "stream",
     "name": "stdout",
     "text": "A: [5 7 9 8 6 4 5]\nB: [6 3 4 8 9 7 1]\nAlways max of A and B: [6. 7. 9. 8. 9. 7. 5.]\n"
    }
   ],
   "source": [
    "# Exercise 15\n",
    "def maxx(x, y):\n",
    "    \"\"\"Get the maximum of two items\"\"\"\n",
    "    if x >= y:\n",
    "        return x\n",
    "    else:\n",
    "        return y\n",
    "\n",
    "pair_max = np.vectorize(maxx, otypes=[float])\n",
    "\n",
    "A = np.array([5, 7, 9, 8, 6, 4, 5])\n",
    "B = np.array([6, 3, 4, 8, 9, 7, 1])\n",
    "\n",
    "C = pair_max(A, B)\n",
    "\n",
    "print(\"A: \" + str(A))\n",
    "print(\"B: \" + str(B))\n",
    "print(\"Always max of A and B: \" + str(C))"
   ]
  },
  {
   "cell_type": "code",
   "execution_count": 311,
   "metadata": {},
   "outputs": [
    {
     "output_type": "stream",
     "name": "stdout",
     "text": "A: [[0 1 2]\n [3 4 5]\n [6 7 8]]\n\nB: [[1 0 2]\n [4 3 5]\n [7 6 8]]\n"
    }
   ],
   "source": [
    "# Exercise 16\n",
    "A = np.arange(9).reshape(3,3)\n",
    "B = A[:, [1,0,2]]\n",
    "\n",
    "print(\"A: \" + str(A) + \"\\n\")\n",
    "print(\"B: \" + str(B))"
   ]
  },
  {
   "cell_type": "code",
   "execution_count": 312,
   "metadata": {},
   "outputs": [
    {
     "output_type": "stream",
     "name": "stdout",
     "text": "A: [[0 1 2]\n [3 4 5]\n [6 7 8]]\n\nB: [[3 4 5]\n [0 1 2]\n [6 7 8]]\n"
    }
   ],
   "source": [
    "# Exercise 17\n",
    "A = np.arange(9).reshape(3,3)\n",
    "B = A[[1,0,2], :]\n",
    "\n",
    "print(\"A: \" + str(A) + \"\\n\")\n",
    "print(\"B: \" + str(B))"
   ]
  },
  {
   "cell_type": "code",
   "execution_count": 313,
   "metadata": {},
   "outputs": [
    {
     "output_type": "stream",
     "name": "stdout",
     "text": "A: [[0 1 2]\n [3 4 5]\n [6 7 8]]\n\nB: [[6 7 8]\n [3 4 5]\n [0 1 2]]\n"
    }
   ],
   "source": [
    "# Exercise 18\n",
    "A = np.arange(9).reshape(3,3)\n",
    "B = A[::-1]\n",
    "\n",
    "print(\"A: \" + str(A) + \"\\n\")\n",
    "print(\"B: \" + str(B))"
   ]
  },
  {
   "cell_type": "code",
   "execution_count": 314,
   "metadata": {},
   "outputs": [
    {
     "output_type": "stream",
     "name": "stdout",
     "text": "A: [[0 1 2]\n [3 4 5]\n [6 7 8]]\n\nB: [[2 1 0]\n [5 4 3]\n [8 7 6]]\n"
    }
   ],
   "source": [
    "# Exercise 19\n",
    "A = np.arange(9).reshape(3,3)\n",
    "B = A[:, ::-1]\n",
    "\n",
    "print(\"A: \" + str(A) + \"\\n\")\n",
    "print(\"B: \" + str(B))"
   ]
  },
  {
   "cell_type": "code",
   "execution_count": 315,
   "metadata": {},
   "outputs": [
    {
     "output_type": "stream",
     "name": "stdout",
     "text": "A: [[5.632384 9.699359 8.641965]\n [9.920024 7.298876 5.568746]\n [8.178624 6.532574 7.646691]\n [8.142065 9.581389 9.47919 ]\n [6.386419 8.440465 9.404757]]\n\nB: [[7.21127  5.150616 8.880027]\n [7.754792 6.905367 7.646329]\n [9.784385 5.879107 5.591514]\n [9.314728 5.374334 9.125474]\n [9.180659 5.376975 5.057004]]\n"
    }
   ],
   "source": [
    "# Exercise 20\n",
    "A = np.random.randint(low=5, high=10, size=(5,3)) + np.random.random((5,3))\n",
    "B = np.random.uniform(5,10, size=(5,3))\n",
    "\n",
    "print(\"A: \" + str(A) + \"\\n\")\n",
    "print(\"B: \" + str(B))"
   ]
  },
  {
   "cell_type": "code",
   "execution_count": 316,
   "metadata": {},
   "outputs": [
    {
     "output_type": "stream",
     "name": "stdout",
     "text": "A: [[5.242 6.786 8.328]\n [5.057 5.54  9.505]\n [8.974 9.057 8.201]\n [8.124 5.728 7.851]\n [5.326 6.567 6.085]]\n"
    }
   ],
   "source": [
    "# Exercise 21\n",
    "A = np.random.uniform(5,10, size=(5,3))\n",
    "\n",
    "np.set_printoptions(precision=3)\n",
    "print(\"A: \" + str(A))"
   ]
  },
  {
   "cell_type": "code",
   "execution_count": 317,
   "metadata": {},
   "outputs": [
    {
     "output_type": "stream",
     "name": "stdout",
     "text": "A: [[0.000543 0.000278 0.000425]\n [0.000845 0.000005 0.000122]\n [0.000671 0.000826 0.000137]]\n"
    }
   ],
   "source": [
    "# Exercise 22\n",
    "np.set_printoptions(suppress=False) # Default\n",
    "np.random.seed(100)\n",
    "A = np.random.random([3,3])/1e3\n",
    "\n",
    "np.set_printoptions(suppress=True, precision=6)\n",
    "print(\"A: \" + str(A))"
   ]
  },
  {
   "cell_type": "code",
   "execution_count": 318,
   "metadata": {},
   "outputs": [
    {
     "output_type": "stream",
     "name": "stdout",
     "text": "A: [ 0  1  2 ... 12 13 14]\n"
    }
   ],
   "source": [
    "# Exercise 23\n",
    "A = np.arange(15)\n",
    "\n",
    "np.set_printoptions(threshold=6)\n",
    "print(\"A: \" + str(A))"
   ]
  },
  {
   "cell_type": "code",
   "execution_count": 319,
   "metadata": {},
   "outputs": [
    {
     "output_type": "stream",
     "name": "stdout",
     "text": "Truncated A: [ 0  1  2 ... 12 13 14]\nUntruncated A: [ 0  1  2  3  4  5  6  7  8  9 10 11 12 13 14]\n"
    }
   ],
   "source": [
    "# Exercise 24\n",
    "np.set_printoptions(threshold=6)     # Truncate like Exercise 23\n",
    "A = np.arange(15)\n",
    "print(\"Truncated A: \" + str(A))\n",
    "\n",
    "np.set_printoptions(threshold=sys.maxsize)\n",
    "print(\"Untruncated A: \" + str(A))"
   ]
  },
  {
   "cell_type": "code",
   "execution_count": 320,
   "metadata": {},
   "outputs": [
    {
     "output_type": "stream",
     "name": "stdout",
     "text": "A: [[b'5.1' b'3.5' b'1.4' b'0.2' b'Iris-setosa']\n [b'4.9' b'3.0' b'1.4' b'0.2' b'Iris-setosa']\n [b'4.7' b'3.2' b'1.3' b'0.2' b'Iris-setosa']\n [b'4.6' b'3.1' b'1.5' b'0.2' b'Iris-setosa']\n [b'5.0' b'3.6' b'1.4' b'0.2' b'Iris-setosa']\n [b'5.4' b'3.9' b'1.7' b'0.4' b'Iris-setosa']\n [b'4.6' b'3.4' b'1.4' b'0.3' b'Iris-setosa']\n [b'5.0' b'3.4' b'1.5' b'0.2' b'Iris-setosa']\n [b'4.4' b'2.9' b'1.4' b'0.2' b'Iris-setosa']\n [b'4.9' b'3.1' b'1.5' b'0.1' b'Iris-setosa']\n [b'5.4' b'3.7' b'1.5' b'0.2' b'Iris-setosa']\n [b'4.8' b'3.4' b'1.6' b'0.2' b'Iris-setosa']\n [b'4.8' b'3.0' b'1.4' b'0.1' b'Iris-setosa']\n [b'4.3' b'3.0' b'1.1' b'0.1' b'Iris-setosa']\n [b'5.8' b'4.0' b'1.2' b'0.2' b'Iris-setosa']\n [b'5.7' b'4.4' b'1.5' b'0.4' b'Iris-setosa']\n [b'5.4' b'3.9' b'1.3' b'0.4' b'Iris-setosa']\n [b'5.1' b'3.5' b'1.4' b'0.3' b'Iris-setosa']\n [b'5.7' b'3.8' b'1.7' b'0.3' b'Iris-setosa']\n [b'5.1' b'3.8' b'1.5' b'0.3' b'Iris-setosa']\n [b'5.4' b'3.4' b'1.7' b'0.2' b'Iris-setosa']\n [b'5.1' b'3.7' b'1.5' b'0.4' b'Iris-setosa']\n [b'4.6' b'3.6' b'1.0' b'0.2' b'Iris-setosa']\n [b'5.1' b'3.3' b'1.7' b'0.5' b'Iris-setosa']\n [b'4.8' b'3.4' b'1.9' b'0.2' b'Iris-setosa']\n [b'5.0' b'3.0' b'1.6' b'0.2' b'Iris-setosa']\n [b'5.0' b'3.4' b'1.6' b'0.4' b'Iris-setosa']\n [b'5.2' b'3.5' b'1.5' b'0.2' b'Iris-setosa']\n [b'5.2' b'3.4' b'1.4' b'0.2' b'Iris-setosa']\n [b'4.7' b'3.2' b'1.6' b'0.2' b'Iris-setosa']\n [b'4.8' b'3.1' b'1.6' b'0.2' b'Iris-setosa']\n [b'5.4' b'3.4' b'1.5' b'0.4' b'Iris-setosa']\n [b'5.2' b'4.1' b'1.5' b'0.1' b'Iris-setosa']\n [b'5.5' b'4.2' b'1.4' b'0.2' b'Iris-setosa']\n [b'4.9' b'3.1' b'1.5' b'0.1' b'Iris-setosa']\n [b'5.0' b'3.2' b'1.2' b'0.2' b'Iris-setosa']\n [b'5.5' b'3.5' b'1.3' b'0.2' b'Iris-setosa']\n [b'4.9' b'3.1' b'1.5' b'0.1' b'Iris-setosa']\n [b'4.4' b'3.0' b'1.3' b'0.2' b'Iris-setosa']\n [b'5.1' b'3.4' b'1.5' b'0.2' b'Iris-setosa']\n [b'5.0' b'3.5' b'1.3' b'0.3' b'Iris-setosa']\n [b'4.5' b'2.3' b'1.3' b'0.3' b'Iris-setosa']\n [b'4.4' b'3.2' b'1.3' b'0.2' b'Iris-setosa']\n [b'5.0' b'3.5' b'1.6' b'0.6' b'Iris-setosa']\n [b'5.1' b'3.8' b'1.9' b'0.4' b'Iris-setosa']\n [b'4.8' b'3.0' b'1.4' b'0.3' b'Iris-setosa']\n [b'5.1' b'3.8' b'1.6' b'0.2' b'Iris-setosa']\n [b'4.6' b'3.2' b'1.4' b'0.2' b'Iris-setosa']\n [b'5.3' b'3.7' b'1.5' b'0.2' b'Iris-setosa']\n [b'5.0' b'3.3' b'1.4' b'0.2' b'Iris-setosa']\n [b'7.0' b'3.2' b'4.7' b'1.4' b'Iris-versicolor']\n [b'6.4' b'3.2' b'4.5' b'1.5' b'Iris-versicolor']\n [b'6.9' b'3.1' b'4.9' b'1.5' b'Iris-versicolor']\n [b'5.5' b'2.3' b'4.0' b'1.3' b'Iris-versicolor']\n [b'6.5' b'2.8' b'4.6' b'1.5' b'Iris-versicolor']\n [b'5.7' b'2.8' b'4.5' b'1.3' b'Iris-versicolor']\n [b'6.3' b'3.3' b'4.7' b'1.6' b'Iris-versicolor']\n [b'4.9' b'2.4' b'3.3' b'1.0' b'Iris-versicolor']\n [b'6.6' b'2.9' b'4.6' b'1.3' b'Iris-versicolor']\n [b'5.2' b'2.7' b'3.9' b'1.4' b'Iris-versicolor']\n [b'5.0' b'2.0' b'3.5' b'1.0' b'Iris-versicolor']\n [b'5.9' b'3.0' b'4.2' b'1.5' b'Iris-versicolor']\n [b'6.0' b'2.2' b'4.0' b'1.0' b'Iris-versicolor']\n [b'6.1' b'2.9' b'4.7' b'1.4' b'Iris-versicolor']\n [b'5.6' b'2.9' b'3.6' b'1.3' b'Iris-versicolor']\n [b'6.7' b'3.1' b'4.4' b'1.4' b'Iris-versicolor']\n [b'5.6' b'3.0' b'4.5' b'1.5' b'Iris-versicolor']\n [b'5.8' b'2.7' b'4.1' b'1.0' b'Iris-versicolor']\n [b'6.2' b'2.2' b'4.5' b'1.5' b'Iris-versicolor']\n [b'5.6' b'2.5' b'3.9' b'1.1' b'Iris-versicolor']\n [b'5.9' b'3.2' b'4.8' b'1.8' b'Iris-versicolor']\n [b'6.1' b'2.8' b'4.0' b'1.3' b'Iris-versicolor']\n [b'6.3' b'2.5' b'4.9' b'1.5' b'Iris-versicolor']\n [b'6.1' b'2.8' b'4.7' b'1.2' b'Iris-versicolor']\n [b'6.4' b'2.9' b'4.3' b'1.3' b'Iris-versicolor']\n [b'6.6' b'3.0' b'4.4' b'1.4' b'Iris-versicolor']\n [b'6.8' b'2.8' b'4.8' b'1.4' b'Iris-versicolor']\n [b'6.7' b'3.0' b'5.0' b'1.7' b'Iris-versicolor']\n [b'6.0' b'2.9' b'4.5' b'1.5' b'Iris-versicolor']\n [b'5.7' b'2.6' b'3.5' b'1.0' b'Iris-versicolor']\n [b'5.5' b'2.4' b'3.8' b'1.1' b'Iris-versicolor']\n [b'5.5' b'2.4' b'3.7' b'1.0' b'Iris-versicolor']\n [b'5.8' b'2.7' b'3.9' b'1.2' b'Iris-versicolor']\n [b'6.0' b'2.7' b'5.1' b'1.6' b'Iris-versicolor']\n [b'5.4' b'3.0' b'4.5' b'1.5' b'Iris-versicolor']\n [b'6.0' b'3.4' b'4.5' b'1.6' b'Iris-versicolor']\n [b'6.7' b'3.1' b'4.7' b'1.5' b'Iris-versicolor']\n [b'6.3' b'2.3' b'4.4' b'1.3' b'Iris-versicolor']\n [b'5.6' b'3.0' b'4.1' b'1.3' b'Iris-versicolor']\n [b'5.5' b'2.5' b'4.0' b'1.3' b'Iris-versicolor']\n [b'5.5' b'2.6' b'4.4' b'1.2' b'Iris-versicolor']\n [b'6.1' b'3.0' b'4.6' b'1.4' b'Iris-versicolor']\n [b'5.8' b'2.6' b'4.0' b'1.2' b'Iris-versicolor']\n [b'5.0' b'2.3' b'3.3' b'1.0' b'Iris-versicolor']\n [b'5.6' b'2.7' b'4.2' b'1.3' b'Iris-versicolor']\n [b'5.7' b'3.0' b'4.2' b'1.2' b'Iris-versicolor']\n [b'5.7' b'2.9' b'4.2' b'1.3' b'Iris-versicolor']\n [b'6.2' b'2.9' b'4.3' b'1.3' b'Iris-versicolor']\n [b'5.1' b'2.5' b'3.0' b'1.1' b'Iris-versicolor']\n [b'5.7' b'2.8' b'4.1' b'1.3' b'Iris-versicolor']\n [b'6.3' b'3.3' b'6.0' b'2.5' b'Iris-virginica']\n [b'5.8' b'2.7' b'5.1' b'1.9' b'Iris-virginica']\n [b'7.1' b'3.0' b'5.9' b'2.1' b'Iris-virginica']\n [b'6.3' b'2.9' b'5.6' b'1.8' b'Iris-virginica']\n [b'6.5' b'3.0' b'5.8' b'2.2' b'Iris-virginica']\n [b'7.6' b'3.0' b'6.6' b'2.1' b'Iris-virginica']\n [b'4.9' b'2.5' b'4.5' b'1.7' b'Iris-virginica']\n [b'7.3' b'2.9' b'6.3' b'1.8' b'Iris-virginica']\n [b'6.7' b'2.5' b'5.8' b'1.8' b'Iris-virginica']\n [b'7.2' b'3.6' b'6.1' b'2.5' b'Iris-virginica']\n [b'6.5' b'3.2' b'5.1' b'2.0' b'Iris-virginica']\n [b'6.4' b'2.7' b'5.3' b'1.9' b'Iris-virginica']\n [b'6.8' b'3.0' b'5.5' b'2.1' b'Iris-virginica']\n [b'5.7' b'2.5' b'5.0' b'2.0' b'Iris-virginica']\n [b'5.8' b'2.8' b'5.1' b'2.4' b'Iris-virginica']\n [b'6.4' b'3.2' b'5.3' b'2.3' b'Iris-virginica']\n [b'6.5' b'3.0' b'5.5' b'1.8' b'Iris-virginica']\n [b'7.7' b'3.8' b'6.7' b'2.2' b'Iris-virginica']\n [b'7.7' b'2.6' b'6.9' b'2.3' b'Iris-virginica']\n [b'6.0' b'2.2' b'5.0' b'1.5' b'Iris-virginica']\n [b'6.9' b'3.2' b'5.7' b'2.3' b'Iris-virginica']\n [b'5.6' b'2.8' b'4.9' b'2.0' b'Iris-virginica']\n [b'7.7' b'2.8' b'6.7' b'2.0' b'Iris-virginica']\n [b'6.3' b'2.7' b'4.9' b'1.8' b'Iris-virginica']\n [b'6.7' b'3.3' b'5.7' b'2.1' b'Iris-virginica']\n [b'7.2' b'3.2' b'6.0' b'1.8' b'Iris-virginica']\n [b'6.2' b'2.8' b'4.8' b'1.8' b'Iris-virginica']\n [b'6.1' b'3.0' b'4.9' b'1.8' b'Iris-virginica']\n [b'6.4' b'2.8' b'5.6' b'2.1' b'Iris-virginica']\n [b'7.2' b'3.0' b'5.8' b'1.6' b'Iris-virginica']\n [b'7.4' b'2.8' b'6.1' b'1.9' b'Iris-virginica']\n [b'7.9' b'3.8' b'6.4' b'2.0' b'Iris-virginica']\n [b'6.4' b'2.8' b'5.6' b'2.2' b'Iris-virginica']\n [b'6.3' b'2.8' b'5.1' b'1.5' b'Iris-virginica']\n [b'6.1' b'2.6' b'5.6' b'1.4' b'Iris-virginica']\n [b'7.7' b'3.0' b'6.1' b'2.3' b'Iris-virginica']\n [b'6.3' b'3.4' b'5.6' b'2.4' b'Iris-virginica']\n [b'6.4' b'3.1' b'5.5' b'1.8' b'Iris-virginica']\n [b'6.0' b'3.0' b'4.8' b'1.8' b'Iris-virginica']\n [b'6.9' b'3.1' b'5.4' b'2.1' b'Iris-virginica']\n [b'6.7' b'3.1' b'5.6' b'2.4' b'Iris-virginica']\n [b'6.9' b'3.1' b'5.1' b'2.3' b'Iris-virginica']\n [b'5.8' b'2.7' b'5.1' b'1.9' b'Iris-virginica']\n [b'6.8' b'3.2' b'5.9' b'2.3' b'Iris-virginica']\n [b'6.7' b'3.3' b'5.7' b'2.5' b'Iris-virginica']\n [b'6.7' b'3.0' b'5.2' b'2.3' b'Iris-virginica']\n [b'6.3' b'2.5' b'5.0' b'1.9' b'Iris-virginica']\n [b'6.5' b'3.0' b'5.2' b'2.0' b'Iris-virginica']\n [b'6.2' b'3.4' b'5.4' b'2.3' b'Iris-virginica']\n [b'5.9' b'3.0' b'5.1' b'1.8' b'Iris-virginica']]\n"
    }
   ],
   "source": [
    "# Exercise 25\n",
    "URL = 'https://archive.ics.uci.edu/ml/machine-learning-databases/iris/iris.data'\n",
    "A = np.genfromtxt(URL, delimiter=',', dtype='object')\n",
    "Names = ('sepallength', 'sepalwidth', 'petallength', 'petalwidth', 'species')\n",
    "\n",
    "print(\"A: \" + str(A))"
   ]
  },
  {
   "cell_type": "code",
   "execution_count": 321,
   "metadata": {},
   "outputs": [
    {
     "output_type": "stream",
     "name": "stdout",
     "text": "I read the first X (X<=25) exersises! ;)\n"
    }
   ],
   "source": [
    "# Round Up\n",
    "print(\"I read the first X (X<=25) exersises! ;)\")"
   ]
  },
  {
   "cell_type": "code",
   "execution_count": 322,
   "metadata": {},
   "outputs": [],
   "source": [
    "# Pandas Exercise"
   ]
  },
  {
   "cell_type": "code",
   "execution_count": 323,
   "metadata": {},
   "outputs": [],
   "source": [
    "# Setup\n",
    "import pandas as pd\n",
    "\n",
    "URL = \"https://raw.githubusercontent.com/edlich/eternalrepo/master/DS-WAHLFACH/countries.csv\"\n",
    "data = pd.read_csv(URL)"
   ]
  },
  {
   "cell_type": "code",
   "execution_count": 324,
   "metadata": {},
   "outputs": [
    {
     "output_type": "stream",
     "name": "stdout",
     "text": "<class 'pandas.core.frame.DataFrame'>\nRangeIndex: 5 entries, 0 to 4\nData columns (total 5 columns):\n #   Column    Non-Null Count  Dtype \n---  ------    --------------  ----- \n 0   Name      5 non-null      object\n 1   People    5 non-null      int64 \n 2   Area      5 non-null      int64 \n 3   BIP       5 non-null      int64 \n 4   Currency  5 non-null      object\ndtypes: int64(3), object(2)\nmemory usage: 328.0+ bytes\nData Info:\nNone\n\nData General Calculations:\n             People          Area         BIP\ncount  5.000000e+00  5.000000e+00     5.00000\nmean   1.027863e+08  3.907400e+06  2716.20000\nstd    6.759970e+07  4.904957e+06  1457.86083\nmin    3.650310e+07  3.013380e+05  1529.00000\n25%    6.050172e+07  3.573850e+05  1798.00000\n50%    8.252165e+07  3.778350e+05  1850.00000\n75%    1.260450e+08  8.515770e+06  3466.00000\nmax    2.083600e+08  9.984670e+06  4938.00000\n"
    },
    {
     "output_type": "execute_result",
     "data": {
      "text/plain": "       Name     People     Area   BIP Currency\n0   Germany   82521653   357385  3466      EUR\n1     Japan  126045000   377835  4938      YEN\n2    Canada   36503097  9984670  1529      CAD\n3     Italy   60501718   301338  1850      EUR\n4  Brazilia  208360000  8515770  1798     REAL",
      "text/html": "<div>\n<style scoped>\n    .dataframe tbody tr th:only-of-type {\n        vertical-align: middle;\n    }\n\n    .dataframe tbody tr th {\n        vertical-align: top;\n    }\n\n    .dataframe thead th {\n        text-align: right;\n    }\n</style>\n<table border=\"1\" class=\"dataframe\">\n  <thead>\n    <tr style=\"text-align: right;\">\n      <th></th>\n      <th>Name</th>\n      <th>People</th>\n      <th>Area</th>\n      <th>BIP</th>\n      <th>Currency</th>\n    </tr>\n  </thead>\n  <tbody>\n    <tr>\n      <th>0</th>\n      <td>Germany</td>\n      <td>82521653</td>\n      <td>357385</td>\n      <td>3466</td>\n      <td>EUR</td>\n    </tr>\n    <tr>\n      <th>1</th>\n      <td>Japan</td>\n      <td>126045000</td>\n      <td>377835</td>\n      <td>4938</td>\n      <td>YEN</td>\n    </tr>\n    <tr>\n      <th>2</th>\n      <td>Canada</td>\n      <td>36503097</td>\n      <td>9984670</td>\n      <td>1529</td>\n      <td>CAD</td>\n    </tr>\n    <tr>\n      <th>3</th>\n      <td>Italy</td>\n      <td>60501718</td>\n      <td>301338</td>\n      <td>1850</td>\n      <td>EUR</td>\n    </tr>\n    <tr>\n      <th>4</th>\n      <td>Brazilia</td>\n      <td>208360000</td>\n      <td>8515770</td>\n      <td>1798</td>\n      <td>REAL</td>\n    </tr>\n  </tbody>\n</table>\n</div>"
     },
     "metadata": {},
     "execution_count": 324
    }
   ],
   "source": [
    "# Display Basic Statistical Info of the Dataset\n",
    "print(\"Data Info:\\n\" + str(data.info()) + \"\\n\")\n",
    "print(\"Data General Calculations:\\n\" + str(data.describe()))\n",
    "data"
   ]
  },
  {
   "cell_type": "code",
   "execution_count": 325,
   "metadata": {},
   "outputs": [
    {
     "output_type": "stream",
     "name": "stdout",
     "text": "Last 4 rows:\n       Name     People     Area   BIP Currency\n1     Japan  126045000   377835  4938      YEN\n2    Canada   36503097  9984670  1529      CAD\n3     Italy   60501718   301338  1850      EUR\n4  Brazilia  208360000  8515770  1798     REAL\n"
    }
   ],
   "source": [
    "# Show the last 4 rows of the Dataset\n",
    "if len(data.index) >= 4:\n",
    "    print(\"Last 4 rows:\\n\" + str(data[-4:]))\n",
    "else:\n",
    "    print(\"Less than 4 rows in the DataSet\")"
   ]
  },
  {
   "cell_type": "code",
   "execution_count": 326,
   "metadata": {},
   "outputs": [
    {
     "output_type": "execute_result",
     "data": {
      "text/plain": "      Name    People    Area   BIP Currency\n0  Germany  82521653  357385  3466      EUR\n3    Italy  60501718  301338  1850      EUR",
      "text/html": "<div>\n<style scoped>\n    .dataframe tbody tr th:only-of-type {\n        vertical-align: middle;\n    }\n\n    .dataframe tbody tr th {\n        vertical-align: top;\n    }\n\n    .dataframe thead th {\n        text-align: right;\n    }\n</style>\n<table border=\"1\" class=\"dataframe\">\n  <thead>\n    <tr style=\"text-align: right;\">\n      <th></th>\n      <th>Name</th>\n      <th>People</th>\n      <th>Area</th>\n      <th>BIP</th>\n      <th>Currency</th>\n    </tr>\n  </thead>\n  <tbody>\n    <tr>\n      <th>0</th>\n      <td>Germany</td>\n      <td>82521653</td>\n      <td>357385</td>\n      <td>3466</td>\n      <td>EUR</td>\n    </tr>\n    <tr>\n      <th>3</th>\n      <td>Italy</td>\n      <td>60501718</td>\n      <td>301338</td>\n      <td>1850</td>\n      <td>EUR</td>\n    </tr>\n  </tbody>\n</table>\n</div>"
     },
     "metadata": {},
     "execution_count": 326
    }
   ],
   "source": [
    "# Show all the row of countries who have the EURO\n",
    "data[data[\"Currency\"] == \"EUR\"]"
   ]
  },
  {
   "cell_type": "code",
   "execution_count": 327,
   "metadata": {},
   "outputs": [
    {
     "output_type": "execute_result",
     "data": {
      "text/plain": "       Name Currency\n0   Germany      EUR\n1     Japan      YEN\n2    Canada      CAD\n3     Italy      EUR\n4  Brazilia     REAL",
      "text/html": "<div>\n<style scoped>\n    .dataframe tbody tr th:only-of-type {\n        vertical-align: middle;\n    }\n\n    .dataframe tbody tr th {\n        vertical-align: top;\n    }\n\n    .dataframe thead th {\n        text-align: right;\n    }\n</style>\n<table border=\"1\" class=\"dataframe\">\n  <thead>\n    <tr style=\"text-align: right;\">\n      <th></th>\n      <th>Name</th>\n      <th>Currency</th>\n    </tr>\n  </thead>\n  <tbody>\n    <tr>\n      <th>0</th>\n      <td>Germany</td>\n      <td>EUR</td>\n    </tr>\n    <tr>\n      <th>1</th>\n      <td>Japan</td>\n      <td>YEN</td>\n    </tr>\n    <tr>\n      <th>2</th>\n      <td>Canada</td>\n      <td>CAD</td>\n    </tr>\n    <tr>\n      <th>3</th>\n      <td>Italy</td>\n      <td>EUR</td>\n    </tr>\n    <tr>\n      <th>4</th>\n      <td>Brazilia</td>\n      <td>REAL</td>\n    </tr>\n  </tbody>\n</table>\n</div>"
     },
     "metadata": {},
     "execution_count": 327
    }
   ],
   "source": [
    "# Show only name and Currency in a new data frame\n",
    "A = data[[\"Name\", \"Currency\"]]\n",
    "A"
   ]
  },
  {
   "cell_type": "code",
   "execution_count": 328,
   "metadata": {},
   "outputs": [
    {
     "output_type": "execute_result",
     "data": {
      "text/plain": "      Name     People    Area   BIP Currency\n0  Germany   82521653  357385  3466      EUR\n1    Japan  126045000  377835  4938      YEN",
      "text/html": "<div>\n<style scoped>\n    .dataframe tbody tr th:only-of-type {\n        vertical-align: middle;\n    }\n\n    .dataframe tbody tr th {\n        vertical-align: top;\n    }\n\n    .dataframe thead th {\n        text-align: right;\n    }\n</style>\n<table border=\"1\" class=\"dataframe\">\n  <thead>\n    <tr style=\"text-align: right;\">\n      <th></th>\n      <th>Name</th>\n      <th>People</th>\n      <th>Area</th>\n      <th>BIP</th>\n      <th>Currency</th>\n    </tr>\n  </thead>\n  <tbody>\n    <tr>\n      <th>0</th>\n      <td>Germany</td>\n      <td>82521653</td>\n      <td>357385</td>\n      <td>3466</td>\n      <td>EUR</td>\n    </tr>\n    <tr>\n      <th>1</th>\n      <td>Japan</td>\n      <td>126045000</td>\n      <td>377835</td>\n      <td>4938</td>\n      <td>YEN</td>\n    </tr>\n  </tbody>\n</table>\n</div>"
     },
     "metadata": {},
     "execution_count": 328
    }
   ],
   "source": [
    "# Show only the rows/countries that have more than 2000 BIP\n",
    "data[data[\"BIP\"] > 2000]"
   ]
  },
  {
   "cell_type": "code",
   "execution_count": 329,
   "metadata": {},
   "outputs": [
    {
     "output_type": "execute_result",
     "data": {
      "text/plain": "      Name     People    Area   BIP Currency\n0  Germany   82521653  357385  3466      EUR\n1    Japan  126045000  377835  4938      YEN\n3    Italy   60501718  301338  1850      EUR",
      "text/html": "<div>\n<style scoped>\n    .dataframe tbody tr th:only-of-type {\n        vertical-align: middle;\n    }\n\n    .dataframe tbody tr th {\n        vertical-align: top;\n    }\n\n    .dataframe thead th {\n        text-align: right;\n    }\n</style>\n<table border=\"1\" class=\"dataframe\">\n  <thead>\n    <tr style=\"text-align: right;\">\n      <th></th>\n      <th>Name</th>\n      <th>People</th>\n      <th>Area</th>\n      <th>BIP</th>\n      <th>Currency</th>\n    </tr>\n  </thead>\n  <tbody>\n    <tr>\n      <th>0</th>\n      <td>Germany</td>\n      <td>82521653</td>\n      <td>357385</td>\n      <td>3466</td>\n      <td>EUR</td>\n    </tr>\n    <tr>\n      <th>1</th>\n      <td>Japan</td>\n      <td>126045000</td>\n      <td>377835</td>\n      <td>4938</td>\n      <td>YEN</td>\n    </tr>\n    <tr>\n      <th>3</th>\n      <td>Italy</td>\n      <td>60501718</td>\n      <td>301338</td>\n      <td>1850</td>\n      <td>EUR</td>\n    </tr>\n  </tbody>\n</table>\n</div>"
     },
     "metadata": {},
     "execution_count": 329
    }
   ],
   "source": [
    "# Select all countries with inhabitants between 50 and 150 Mio\n",
    "X = data[\"People\"]\n",
    "data[(X > 50e6) & (X < 150e6)]"
   ]
  },
  {
   "cell_type": "code",
   "execution_count": 330,
   "metadata": {},
   "outputs": [
    {
     "output_type": "execute_result",
     "data": {
      "text/plain": "       Name     People     Area   Bip Currency\n0   Germany   82521653   357385  3466      EUR\n1     Japan  126045000   377835  4938      YEN\n2    Canada   36503097  9984670  1529      CAD\n3     Italy   60501718   301338  1850      EUR\n4  Brazilia  208360000  8515770  1798     REAL",
      "text/html": "<div>\n<style scoped>\n    .dataframe tbody tr th:only-of-type {\n        vertical-align: middle;\n    }\n\n    .dataframe tbody tr th {\n        vertical-align: top;\n    }\n\n    .dataframe thead th {\n        text-align: right;\n    }\n</style>\n<table border=\"1\" class=\"dataframe\">\n  <thead>\n    <tr style=\"text-align: right;\">\n      <th></th>\n      <th>Name</th>\n      <th>People</th>\n      <th>Area</th>\n      <th>Bip</th>\n      <th>Currency</th>\n    </tr>\n  </thead>\n  <tbody>\n    <tr>\n      <th>0</th>\n      <td>Germany</td>\n      <td>82521653</td>\n      <td>357385</td>\n      <td>3466</td>\n      <td>EUR</td>\n    </tr>\n    <tr>\n      <th>1</th>\n      <td>Japan</td>\n      <td>126045000</td>\n      <td>377835</td>\n      <td>4938</td>\n      <td>YEN</td>\n    </tr>\n    <tr>\n      <th>2</th>\n      <td>Canada</td>\n      <td>36503097</td>\n      <td>9984670</td>\n      <td>1529</td>\n      <td>CAD</td>\n    </tr>\n    <tr>\n      <th>3</th>\n      <td>Italy</td>\n      <td>60501718</td>\n      <td>301338</td>\n      <td>1850</td>\n      <td>EUR</td>\n    </tr>\n    <tr>\n      <th>4</th>\n      <td>Brazilia</td>\n      <td>208360000</td>\n      <td>8515770</td>\n      <td>1798</td>\n      <td>REAL</td>\n    </tr>\n  </tbody>\n</table>\n</div>"
     },
     "metadata": {},
     "execution_count": 330
    }
   ],
   "source": [
    "# Change BIP to Bip\n",
    "A = data.rename(columns={\"BIP\": \"Bip\"})\n",
    "A"
   ]
  },
  {
   "cell_type": "code",
   "execution_count": 331,
   "metadata": {},
   "outputs": [
    {
     "output_type": "execute_result",
     "data": {
      "text/plain": "13581"
     },
     "metadata": {},
     "execution_count": 331
    }
   ],
   "source": [
    "# Calculate the Bip sum\n",
    "A[\"Bip\"].sum()"
   ]
  },
  {
   "cell_type": "code",
   "execution_count": 332,
   "metadata": {},
   "outputs": [
    {
     "output_type": "execute_result",
     "data": {
      "text/plain": "102786293.6"
     },
     "metadata": {},
     "execution_count": 332
    }
   ],
   "source": [
    "# Calculate the average people of all countries\n",
    "A[\"People\"].mean()"
   ]
  },
  {
   "cell_type": "code",
   "execution_count": 333,
   "metadata": {},
   "outputs": [
    {
     "output_type": "execute_result",
     "data": {
      "text/plain": "       Name     People     Area   Bip Currency\n4  Brazilia  208360000  8515770  1798     REAL\n2    Canada   36503097  9984670  1529      CAD\n0   Germany   82521653   357385  3466      EUR\n3     Italy   60501718   301338  1850      EUR\n1     Japan  126045000   377835  4938      YEN",
      "text/html": "<div>\n<style scoped>\n    .dataframe tbody tr th:only-of-type {\n        vertical-align: middle;\n    }\n\n    .dataframe tbody tr th {\n        vertical-align: top;\n    }\n\n    .dataframe thead th {\n        text-align: right;\n    }\n</style>\n<table border=\"1\" class=\"dataframe\">\n  <thead>\n    <tr style=\"text-align: right;\">\n      <th></th>\n      <th>Name</th>\n      <th>People</th>\n      <th>Area</th>\n      <th>Bip</th>\n      <th>Currency</th>\n    </tr>\n  </thead>\n  <tbody>\n    <tr>\n      <th>4</th>\n      <td>Brazilia</td>\n      <td>208360000</td>\n      <td>8515770</td>\n      <td>1798</td>\n      <td>REAL</td>\n    </tr>\n    <tr>\n      <th>2</th>\n      <td>Canada</td>\n      <td>36503097</td>\n      <td>9984670</td>\n      <td>1529</td>\n      <td>CAD</td>\n    </tr>\n    <tr>\n      <th>0</th>\n      <td>Germany</td>\n      <td>82521653</td>\n      <td>357385</td>\n      <td>3466</td>\n      <td>EUR</td>\n    </tr>\n    <tr>\n      <th>3</th>\n      <td>Italy</td>\n      <td>60501718</td>\n      <td>301338</td>\n      <td>1850</td>\n      <td>EUR</td>\n    </tr>\n    <tr>\n      <th>1</th>\n      <td>Japan</td>\n      <td>126045000</td>\n      <td>377835</td>\n      <td>4938</td>\n      <td>YEN</td>\n    </tr>\n  </tbody>\n</table>\n</div>"
     },
     "metadata": {},
     "execution_count": 333
    }
   ],
   "source": [
    "# Sort by name alphabetically\n",
    "A.sort_values([\"Name\"])"
   ]
  },
  {
   "cell_type": "code",
   "execution_count": 334,
   "metadata": {},
   "outputs": [
    {
     "output_type": "execute_result",
     "data": {
      "text/plain": "       Name     People   Area   BIP Currency\n0   Germany   82521653  SMALL  3466      EUR\n1     Japan  126045000  SMALL  4938      YEN\n2    Canada   36503097    BIG  1529      CAD\n3     Italy   60501718  SMALL  1850      EUR\n4  Brazilia  208360000    BIG  1798     REAL",
      "text/html": "<div>\n<style scoped>\n    .dataframe tbody tr th:only-of-type {\n        vertical-align: middle;\n    }\n\n    .dataframe tbody tr th {\n        vertical-align: top;\n    }\n\n    .dataframe thead th {\n        text-align: right;\n    }\n</style>\n<table border=\"1\" class=\"dataframe\">\n  <thead>\n    <tr style=\"text-align: right;\">\n      <th></th>\n      <th>Name</th>\n      <th>People</th>\n      <th>Area</th>\n      <th>BIP</th>\n      <th>Currency</th>\n    </tr>\n  </thead>\n  <tbody>\n    <tr>\n      <th>0</th>\n      <td>Germany</td>\n      <td>82521653</td>\n      <td>SMALL</td>\n      <td>3466</td>\n      <td>EUR</td>\n    </tr>\n    <tr>\n      <th>1</th>\n      <td>Japan</td>\n      <td>126045000</td>\n      <td>SMALL</td>\n      <td>4938</td>\n      <td>YEN</td>\n    </tr>\n    <tr>\n      <th>2</th>\n      <td>Canada</td>\n      <td>36503097</td>\n      <td>BIG</td>\n      <td>1529</td>\n      <td>CAD</td>\n    </tr>\n    <tr>\n      <th>3</th>\n      <td>Italy</td>\n      <td>60501718</td>\n      <td>SMALL</td>\n      <td>1850</td>\n      <td>EUR</td>\n    </tr>\n    <tr>\n      <th>4</th>\n      <td>Brazilia</td>\n      <td>208360000</td>\n      <td>BIG</td>\n      <td>1798</td>\n      <td>REAL</td>\n    </tr>\n  </tbody>\n</table>\n</div>"
     },
     "metadata": {},
     "execution_count": 334
    }
   ],
   "source": [
    "# Create a new data frame from the original where the area is changed as follows: all countries with > 1000000 get BIG and <= 1000000 get SMALL in the cell replaced!\n",
    "def replace(x):\n",
    "    if x > 1000000:\n",
    "        return \"BIG\"\n",
    "    else:\n",
    "        return \"SMALL\"\n",
    "\n",
    "B = data.copy()\n",
    "B[\"Area\"] = B.apply(lambda x: replace(x[\"Area\"]), axis=1)\n",
    "B"
   ]
  }
 ],
 "metadata": {
  "language_info": {
   "codemirror_mode": {
    "name": "ipython",
    "version": 3
   },
   "file_extension": ".py",
   "mimetype": "text/x-python",
   "name": "python",
   "nbconvert_exporter": "python",
   "pygments_lexer": "ipython3",
   "version": "3.8.2-final"
  },
  "orig_nbformat": 2,
  "kernelspec": {
   "name": "python38264bit5a7ad6ddbf584eb69bc0fb9f725dea03",
   "display_name": "Python 3.8.2 64-bit"
  }
 },
 "nbformat": 4,
 "nbformat_minor": 2
}