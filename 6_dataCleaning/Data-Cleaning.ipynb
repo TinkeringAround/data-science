{
 "cells": [
  {
   "cell_type": "markdown",
   "metadata": {},
   "source": [
    "# Data Cleaning\n",
    "I will clean the Dataset in three Steps. Beforehand I already sorted the Dataset by id.\n",
    "\n",
    "1. I run a couple of Validators on the Dataset to make sure only filled Data is used (Validate only Syntax) -> No Missing Data. When you are just looking for NaN-Values, you could also use data.dropnan() to remove all rows with NaN Elements, but I wanted to demonstrate my way of thinking here so I implemented it manually. Also you could extend the validators here to not just validate the value against NaN.\n",
    "\n",
    "    -> No Missing Data\n",
    "    - NoContent: Remove Data without Content at all (empty lines)\n",
    "    - NoId: Remove data without an ID -> Make sure the Data is unique\n",
    "    - NoName: Remove Data without FirstName or LastName => FullName is not necessarry, because you can alsways construct it\n",
    "    - NoEmail: Remove Data without email -> You cannot contact People if they have no email\n",
    "    - NoGender: Data where Gender is not Male or Female\n",
    "    - NoAge: Remove Data where Age is not valid\n",
    "\n",
    "2. I check the Data Set semantically (Analyze Data for semantic Errors) in the same corresponding validators from above.\n",
    "\n",
    "    - CheckFullname: Fullname should be combination of Firstname and Lastname -> No Inconsistent Data\n",
    "    - CheckAge: Only Age > 0 is allowed -> No Inconsistend Data \"old\" or incorrect Data \"-78\"\n",
    "    - CheckGender: Only Gender Male or Female is allowed\n",
    "\n",
    "3. I drop all duplicate Values -> No Duplications"
   ]
  },
  {
   "cell_type": "code",
   "execution_count": 1,
   "metadata": {},
   "outputs": [],
   "source": [
    "# Used Imports\n",
    "import pandas as pd\n",
    "import math"
   ]
  },
  {
   "cell_type": "code",
   "execution_count": 2,
   "metadata": {},
   "outputs": [],
   "source": [
    "# Declare general useful Functions\n",
    "def isNaN(num):\n",
    "    return pd.isna(num)"
   ]
  },
  {
   "cell_type": "code",
   "execution_count": 3,
   "metadata": {},
   "outputs": [
    {
     "output_type": "execute_result",
     "data": {
      "text/plain": "      id              full_name  first_name    last_name  \\\n0    1.0        Mariel Finnigan      Mariel     Finnigan   \n1    2.0          Kenyon Possek      Kenyon       Possek   \n2    3.0         Lalo Manifould        Lalo    Manifould   \n3    4.0         Nickola Carous     Nickola       Carous   \n4    5.0          Norman Dubbin      Norman       Dubbin   \n5    6.0           Hasty Perdue       Hasty       Perdue   \n6    7.0         Franz Castello       Franz     Castello   \n7    8.0           Jorge Tarney       Jorge       Tarney   \n8    9.0     Eunice Blakebrough      Eunice  Blakebrough   \n9   10.0  Kristopher Frankcombe  Kristopher   Frankcombe   \n10  11.0           Palm Domotor        Palm      Domotor   \n11  12.0          Luz Lansdowne         Luz    Lansdowne   \n12  13.0         Modestia Keble    Modestia        Keble   \n13  14.0           Stacee Bovis      Stacee        Bovis   \n14  15.0              Eden Wace        Eden         Wace   \n15  16.0              Eden Wace        Eden         Wace   \n16  17.0        Tobias Sherburn      Tobias     Sherburn   \n18  19.0         Clair Skillern       Clair     Skillern   \n19  20.0        Mathew Addicott      Mathew     Addicott   \n20  21.0       Kerianne Goacher    Kerianne      Goacher   \n17   NaN                    NaN         NaN          NaN   \n21   NaN          Maurits Shawl     Maurits        Shawl   \n22   NaN                    NaN         NaN          NaN   \n\n                             email  gender  age  \n0              mfinnigan0@usda.gov  Female   60  \n1                kpossek1@ucoz.com    Male   12  \n2              lmanifould2@pbs.org    Male   26  \n3                ncarous3@phoca.cz    Male    4  \n4           ndubbin4@wikipedia.org    Male   17  \n5                  hperdue5@qq.com     NaN   77  \n6              fcastello6@1688.com    Male   25  \n7                  jtarney7@ft.com    Male   77  \n8           eblakebrough8@sohu.com  Female   45  \n9           kfrankcombe9@slate.com    Male  old  \n10             pdomotora@github.io    Male    6  \n11     llansdowneb@theguardian.com  Female   16  \n12                 mkeblec@cmu.edu  Female   91  \n13           sbovisd@webeden.co.uk  Female   22  \n14             ewacee@marriott.com  Female   16  \n15             ewacee@marriott.com  Female   16  \n16         tsherburnf@facebook.com    Male    2  \n18              cskillerng@nih.gov    Male  -78  \n19  maddicotth@acquirethisname.com    Male   65  \n20                             NaN  Female   45  \n17                             NaN     NaN  NaN  \n21                mshawlj@dmoz.org    Male   72  \n22                             NaN     NaN  NaN  ",
      "text/html": "<div>\n<style scoped>\n    .dataframe tbody tr th:only-of-type {\n        vertical-align: middle;\n    }\n\n    .dataframe tbody tr th {\n        vertical-align: top;\n    }\n\n    .dataframe thead th {\n        text-align: right;\n    }\n</style>\n<table border=\"1\" class=\"dataframe\">\n  <thead>\n    <tr style=\"text-align: right;\">\n      <th></th>\n      <th>id</th>\n      <th>full_name</th>\n      <th>first_name</th>\n      <th>last_name</th>\n      <th>email</th>\n      <th>gender</th>\n      <th>age</th>\n    </tr>\n  </thead>\n  <tbody>\n    <tr>\n      <th>0</th>\n      <td>1.0</td>\n      <td>Mariel Finnigan</td>\n      <td>Mariel</td>\n      <td>Finnigan</td>\n      <td>mfinnigan0@usda.gov</td>\n      <td>Female</td>\n      <td>60</td>\n    </tr>\n    <tr>\n      <th>1</th>\n      <td>2.0</td>\n      <td>Kenyon Possek</td>\n      <td>Kenyon</td>\n      <td>Possek</td>\n      <td>kpossek1@ucoz.com</td>\n      <td>Male</td>\n      <td>12</td>\n    </tr>\n    <tr>\n      <th>2</th>\n      <td>3.0</td>\n      <td>Lalo Manifould</td>\n      <td>Lalo</td>\n      <td>Manifould</td>\n      <td>lmanifould2@pbs.org</td>\n      <td>Male</td>\n      <td>26</td>\n    </tr>\n    <tr>\n      <th>3</th>\n      <td>4.0</td>\n      <td>Nickola Carous</td>\n      <td>Nickola</td>\n      <td>Carous</td>\n      <td>ncarous3@phoca.cz</td>\n      <td>Male</td>\n      <td>4</td>\n    </tr>\n    <tr>\n      <th>4</th>\n      <td>5.0</td>\n      <td>Norman Dubbin</td>\n      <td>Norman</td>\n      <td>Dubbin</td>\n      <td>ndubbin4@wikipedia.org</td>\n      <td>Male</td>\n      <td>17</td>\n    </tr>\n    <tr>\n      <th>5</th>\n      <td>6.0</td>\n      <td>Hasty Perdue</td>\n      <td>Hasty</td>\n      <td>Perdue</td>\n      <td>hperdue5@qq.com</td>\n      <td>NaN</td>\n      <td>77</td>\n    </tr>\n    <tr>\n      <th>6</th>\n      <td>7.0</td>\n      <td>Franz Castello</td>\n      <td>Franz</td>\n      <td>Castello</td>\n      <td>fcastello6@1688.com</td>\n      <td>Male</td>\n      <td>25</td>\n    </tr>\n    <tr>\n      <th>7</th>\n      <td>8.0</td>\n      <td>Jorge Tarney</td>\n      <td>Jorge</td>\n      <td>Tarney</td>\n      <td>jtarney7@ft.com</td>\n      <td>Male</td>\n      <td>77</td>\n    </tr>\n    <tr>\n      <th>8</th>\n      <td>9.0</td>\n      <td>Eunice Blakebrough</td>\n      <td>Eunice</td>\n      <td>Blakebrough</td>\n      <td>eblakebrough8@sohu.com</td>\n      <td>Female</td>\n      <td>45</td>\n    </tr>\n    <tr>\n      <th>9</th>\n      <td>10.0</td>\n      <td>Kristopher Frankcombe</td>\n      <td>Kristopher</td>\n      <td>Frankcombe</td>\n      <td>kfrankcombe9@slate.com</td>\n      <td>Male</td>\n      <td>old</td>\n    </tr>\n    <tr>\n      <th>10</th>\n      <td>11.0</td>\n      <td>Palm Domotor</td>\n      <td>Palm</td>\n      <td>Domotor</td>\n      <td>pdomotora@github.io</td>\n      <td>Male</td>\n      <td>6</td>\n    </tr>\n    <tr>\n      <th>11</th>\n      <td>12.0</td>\n      <td>Luz Lansdowne</td>\n      <td>Luz</td>\n      <td>Lansdowne</td>\n      <td>llansdowneb@theguardian.com</td>\n      <td>Female</td>\n      <td>16</td>\n    </tr>\n    <tr>\n      <th>12</th>\n      <td>13.0</td>\n      <td>Modestia Keble</td>\n      <td>Modestia</td>\n      <td>Keble</td>\n      <td>mkeblec@cmu.edu</td>\n      <td>Female</td>\n      <td>91</td>\n    </tr>\n    <tr>\n      <th>13</th>\n      <td>14.0</td>\n      <td>Stacee Bovis</td>\n      <td>Stacee</td>\n      <td>Bovis</td>\n      <td>sbovisd@webeden.co.uk</td>\n      <td>Female</td>\n      <td>22</td>\n    </tr>\n    <tr>\n      <th>14</th>\n      <td>15.0</td>\n      <td>Eden Wace</td>\n      <td>Eden</td>\n      <td>Wace</td>\n      <td>ewacee@marriott.com</td>\n      <td>Female</td>\n      <td>16</td>\n    </tr>\n    <tr>\n      <th>15</th>\n      <td>16.0</td>\n      <td>Eden Wace</td>\n      <td>Eden</td>\n      <td>Wace</td>\n      <td>ewacee@marriott.com</td>\n      <td>Female</td>\n      <td>16</td>\n    </tr>\n    <tr>\n      <th>16</th>\n      <td>17.0</td>\n      <td>Tobias Sherburn</td>\n      <td>Tobias</td>\n      <td>Sherburn</td>\n      <td>tsherburnf@facebook.com</td>\n      <td>Male</td>\n      <td>2</td>\n    </tr>\n    <tr>\n      <th>18</th>\n      <td>19.0</td>\n      <td>Clair Skillern</td>\n      <td>Clair</td>\n      <td>Skillern</td>\n      <td>cskillerng@nih.gov</td>\n      <td>Male</td>\n      <td>-78</td>\n    </tr>\n    <tr>\n      <th>19</th>\n      <td>20.0</td>\n      <td>Mathew Addicott</td>\n      <td>Mathew</td>\n      <td>Addicott</td>\n      <td>maddicotth@acquirethisname.com</td>\n      <td>Male</td>\n      <td>65</td>\n    </tr>\n    <tr>\n      <th>20</th>\n      <td>21.0</td>\n      <td>Kerianne Goacher</td>\n      <td>Kerianne</td>\n      <td>Goacher</td>\n      <td>NaN</td>\n      <td>Female</td>\n      <td>45</td>\n    </tr>\n    <tr>\n      <th>17</th>\n      <td>NaN</td>\n      <td>NaN</td>\n      <td>NaN</td>\n      <td>NaN</td>\n      <td>NaN</td>\n      <td>NaN</td>\n      <td>NaN</td>\n    </tr>\n    <tr>\n      <th>21</th>\n      <td>NaN</td>\n      <td>Maurits Shawl</td>\n      <td>Maurits</td>\n      <td>Shawl</td>\n      <td>mshawlj@dmoz.org</td>\n      <td>Male</td>\n      <td>72</td>\n    </tr>\n    <tr>\n      <th>22</th>\n      <td>NaN</td>\n      <td>NaN</td>\n      <td>NaN</td>\n      <td>NaN</td>\n      <td>NaN</td>\n      <td>NaN</td>\n      <td>NaN</td>\n    </tr>\n  </tbody>\n</table>\n</div>"
     },
     "metadata": {},
     "execution_count": 3
    }
   ],
   "source": [
    "# Load and Display Dataset\n",
    "data = pd.read_csv(\"https://assets.ctfassets.net/df3z1ez0ud42/1keo1CqBJJyJhltQx7g2n4/6e046ac756f26d36b18e9487251c0144/DB.csv\")\n",
    "data = data.sort_values(by=[\"id\"])\n",
    "data"
   ]
  },
  {
   "cell_type": "code",
   "execution_count": 4,
   "metadata": {},
   "outputs": [],
   "source": [
    "# Initialize important Dataset Attributes and Constants for avoiding Magic Numbers in Validators\n",
    "ID_INDEX = 0\n",
    "FULLNAME_INDEX = 1\n",
    "FIRSTNAME_INDEX = 2\n",
    "LASTNAME_INDEX = 3\n",
    "EMAIL_INDEX = 4\n",
    "GENDER_INDEX = 5\n",
    "AGE_INDEX = 6"
   ]
  },
  {
   "cell_type": "code",
   "execution_count": 5,
   "metadata": {},
   "outputs": [
    {
     "output_type": "execute_result",
     "data": {
      "text/plain": "      id           full_name first_name    last_name  \\\n0    1.0     Mariel Finnigan     Mariel     Finnigan   \n1    2.0       Kenyon Possek     Kenyon       Possek   \n2    3.0      Lalo Manifould       Lalo    Manifould   \n3    4.0      Nickola Carous    Nickola       Carous   \n4    5.0       Norman Dubbin     Norman       Dubbin   \n6    7.0      Franz Castello      Franz     Castello   \n7    8.0        Jorge Tarney      Jorge       Tarney   \n8    9.0  Eunice Blakebrough     Eunice  Blakebrough   \n10  11.0        Palm Domotor       Palm      Domotor   \n11  12.0       Luz Lansdowne        Luz    Lansdowne   \n12  13.0      Modestia Keble   Modestia        Keble   \n13  14.0        Stacee Bovis     Stacee        Bovis   \n16  17.0     Tobias Sherburn     Tobias     Sherburn   \n19  20.0     Mathew Addicott     Mathew     Addicott   \n\n                             email  gender age  \n0              mfinnigan0@usda.gov  Female  60  \n1                kpossek1@ucoz.com    Male  12  \n2              lmanifould2@pbs.org    Male  26  \n3                ncarous3@phoca.cz    Male   4  \n4           ndubbin4@wikipedia.org    Male  17  \n6              fcastello6@1688.com    Male  25  \n7                  jtarney7@ft.com    Male  77  \n8           eblakebrough8@sohu.com  Female  45  \n10             pdomotora@github.io    Male   6  \n11     llansdowneb@theguardian.com  Female  16  \n12                 mkeblec@cmu.edu  Female  91  \n13           sbovisd@webeden.co.uk  Female  22  \n16         tsherburnf@facebook.com    Male   2  \n19  maddicotth@acquirethisname.com    Male  65  ",
      "text/html": "<div>\n<style scoped>\n    .dataframe tbody tr th:only-of-type {\n        vertical-align: middle;\n    }\n\n    .dataframe tbody tr th {\n        vertical-align: top;\n    }\n\n    .dataframe thead th {\n        text-align: right;\n    }\n</style>\n<table border=\"1\" class=\"dataframe\">\n  <thead>\n    <tr style=\"text-align: right;\">\n      <th></th>\n      <th>id</th>\n      <th>full_name</th>\n      <th>first_name</th>\n      <th>last_name</th>\n      <th>email</th>\n      <th>gender</th>\n      <th>age</th>\n    </tr>\n  </thead>\n  <tbody>\n    <tr>\n      <th>0</th>\n      <td>1.0</td>\n      <td>Mariel Finnigan</td>\n      <td>Mariel</td>\n      <td>Finnigan</td>\n      <td>mfinnigan0@usda.gov</td>\n      <td>Female</td>\n      <td>60</td>\n    </tr>\n    <tr>\n      <th>1</th>\n      <td>2.0</td>\n      <td>Kenyon Possek</td>\n      <td>Kenyon</td>\n      <td>Possek</td>\n      <td>kpossek1@ucoz.com</td>\n      <td>Male</td>\n      <td>12</td>\n    </tr>\n    <tr>\n      <th>2</th>\n      <td>3.0</td>\n      <td>Lalo Manifould</td>\n      <td>Lalo</td>\n      <td>Manifould</td>\n      <td>lmanifould2@pbs.org</td>\n      <td>Male</td>\n      <td>26</td>\n    </tr>\n    <tr>\n      <th>3</th>\n      <td>4.0</td>\n      <td>Nickola Carous</td>\n      <td>Nickola</td>\n      <td>Carous</td>\n      <td>ncarous3@phoca.cz</td>\n      <td>Male</td>\n      <td>4</td>\n    </tr>\n    <tr>\n      <th>4</th>\n      <td>5.0</td>\n      <td>Norman Dubbin</td>\n      <td>Norman</td>\n      <td>Dubbin</td>\n      <td>ndubbin4@wikipedia.org</td>\n      <td>Male</td>\n      <td>17</td>\n    </tr>\n    <tr>\n      <th>6</th>\n      <td>7.0</td>\n      <td>Franz Castello</td>\n      <td>Franz</td>\n      <td>Castello</td>\n      <td>fcastello6@1688.com</td>\n      <td>Male</td>\n      <td>25</td>\n    </tr>\n    <tr>\n      <th>7</th>\n      <td>8.0</td>\n      <td>Jorge Tarney</td>\n      <td>Jorge</td>\n      <td>Tarney</td>\n      <td>jtarney7@ft.com</td>\n      <td>Male</td>\n      <td>77</td>\n    </tr>\n    <tr>\n      <th>8</th>\n      <td>9.0</td>\n      <td>Eunice Blakebrough</td>\n      <td>Eunice</td>\n      <td>Blakebrough</td>\n      <td>eblakebrough8@sohu.com</td>\n      <td>Female</td>\n      <td>45</td>\n    </tr>\n    <tr>\n      <th>10</th>\n      <td>11.0</td>\n      <td>Palm Domotor</td>\n      <td>Palm</td>\n      <td>Domotor</td>\n      <td>pdomotora@github.io</td>\n      <td>Male</td>\n      <td>6</td>\n    </tr>\n    <tr>\n      <th>11</th>\n      <td>12.0</td>\n      <td>Luz Lansdowne</td>\n      <td>Luz</td>\n      <td>Lansdowne</td>\n      <td>llansdowneb@theguardian.com</td>\n      <td>Female</td>\n      <td>16</td>\n    </tr>\n    <tr>\n      <th>12</th>\n      <td>13.0</td>\n      <td>Modestia Keble</td>\n      <td>Modestia</td>\n      <td>Keble</td>\n      <td>mkeblec@cmu.edu</td>\n      <td>Female</td>\n      <td>91</td>\n    </tr>\n    <tr>\n      <th>13</th>\n      <td>14.0</td>\n      <td>Stacee Bovis</td>\n      <td>Stacee</td>\n      <td>Bovis</td>\n      <td>sbovisd@webeden.co.uk</td>\n      <td>Female</td>\n      <td>22</td>\n    </tr>\n    <tr>\n      <th>16</th>\n      <td>17.0</td>\n      <td>Tobias Sherburn</td>\n      <td>Tobias</td>\n      <td>Sherburn</td>\n      <td>tsherburnf@facebook.com</td>\n      <td>Male</td>\n      <td>2</td>\n    </tr>\n    <tr>\n      <th>19</th>\n      <td>20.0</td>\n      <td>Mathew Addicott</td>\n      <td>Mathew</td>\n      <td>Addicott</td>\n      <td>maddicotth@acquirethisname.com</td>\n      <td>Male</td>\n      <td>65</td>\n    </tr>\n  </tbody>\n</table>\n</div>"
     },
     "metadata": {},
     "execution_count": 5
    }
   ],
   "source": [
    "# Syntax Validators and Sematic Validations\n",
    "def noContent(row):\n",
    "    return isNaN(row.all())\n",
    "\n",
    "def noId(id):\n",
    "    if isNaN(id):\n",
    "        return True \n",
    "\n",
    "def noName(fullname, firstname, lastname):\n",
    "    # Syntax\n",
    "    if isNaN(firstname) or isNaN(lastname) or firstname == \"\" or lastname == \"\":\n",
    "        return True\n",
    "    # Semantics\n",
    "    if fullname != (firstname + \" \" + lastname):\n",
    "        return True\n",
    "\n",
    "def noEmail(email):\n",
    "    if isNaN(email) or email == \"\":\n",
    "        return True\n",
    "\n",
    "def noGender(gender):\n",
    "    # Syntax\n",
    "    if isNaN(gender) or gender == \"\":\n",
    "        return True\n",
    "    # Semantics\n",
    "    if gender.lower() != \"male\" and gender.lower() != \"female\":\n",
    "        return True\n",
    "\n",
    "def noAge(age):\n",
    "    # Syntax\n",
    "    #print(age)\n",
    "    #print(isNaN(age) or age == \"\" or not age.isnumeric())\n",
    "    if isNaN(age) or age == \"\" or not age.isnumeric():\n",
    "        return True\n",
    "    # Semantics\n",
    "    \n",
    "    if int(age) < 0 or int(age) > 150:\n",
    "        return True\n",
    "\n",
    "def rowIsInvalid(row):\n",
    "    if noContent(row):\n",
    "        return True\n",
    "    \n",
    "    if noId(row[ID_INDEX]):\n",
    "        return True\n",
    "\n",
    "    if noName(row[FULLNAME_INDEX], row[FIRSTNAME_INDEX], row[LASTNAME_INDEX]):\n",
    "        return True\n",
    "\n",
    "    if noEmail(row[EMAIL_INDEX]):\n",
    "        return True\n",
    "\n",
    "    if noGender(row[GENDER_INDEX]):\n",
    "        return True\n",
    "\n",
    "    if noAge(row[AGE_INDEX]):\n",
    "        return True \n",
    "\n",
    "    return False\n",
    "\n",
    "# Collect all invalid Rows\n",
    "invalidRows = set()\n",
    "for index, row in data.iterrows():\n",
    "    if rowIsInvalid(row) == True:\n",
    "        invalidRows.add(index)\n",
    "\n",
    "# Drop all collected invalid Rows\n",
    "data = data.drop(list(invalidRows))\n",
    "\n",
    "# Drop Duplicates\n",
    "data.drop_duplicates({\"full_name\", \"first_name\", \"last_name\", \"email\", \"gender\", \"age\"}, keep=False, inplace=True)\n",
    "\n",
    "# Cleaned Dataset\n",
    "data"
   ]
  },
  {
   "cell_type": "markdown",
   "metadata": {},
   "source": [
    "# Further Improvements\n",
    "The Data can further be optimized by analyzing emails for example \"sbovisd@webeden.co.uk\" is no valid email."
   ]
  }
 ],
 "metadata": {
  "language_info": {
   "codemirror_mode": {
    "name": "ipython",
    "version": 3
   },
   "file_extension": ".py",
   "mimetype": "text/x-python",
   "name": "python",
   "nbconvert_exporter": "python",
   "pygments_lexer": "ipython3",
   "version": "3.8.2-final"
  },
  "orig_nbformat": 2,
  "kernelspec": {
   "name": "python38264bit5a7ad6ddbf584eb69bc0fb9f725dea03",
   "display_name": "Python 3.8.2 64-bit"
  }
 },
 "nbformat": 4,
 "nbformat_minor": 2
}